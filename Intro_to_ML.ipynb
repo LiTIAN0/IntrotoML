{
 "cells": [
  {
   "cell_type": "markdown",
   "id": "e3f89cf2-9019-4867-ae80-71686adb9982",
   "metadata": {},
   "source": [
    "# Task\n",
    "\n",
    "Build a regression-based machine learning model to predict saturation vapour pressure. "
   ]
  },
  {
   "cell_type": "code",
   "execution_count": 1,
   "id": "ae1a92e8-48d3-41bf-b053-d1bc6bf1791a",
   "metadata": {},
   "outputs": [],
   "source": [
    "import pandas as pd\n",
    "import numpy as np\n",
    "import matplotlib.pyplot as plt\n",
    "import seaborn as sns\n",
    "from sklearn.model_selection import train_test_split, cross_val_score\n",
    "from sklearn.preprocessing import StandardScaler\n",
    "from sklearn.linear_model import LinearRegression, Ridge, Lasso\n",
    "from sklearn.ensemble import RandomForestRegressor\n",
    "from sklearn.metrics import r2_score\n",
    "from sklearn.feature_selection import RFE"
   ]
  },
  {
   "cell_type": "markdown",
   "id": "09b24c1f-d4ed-4858-9af7-93986a94ad0d",
   "metadata": {},
   "source": [
    "# Data Exploration and Pre-processing"
   ]
  },
  {
   "cell_type": "code",
   "execution_count": 9,
   "id": "aa79b404-789d-4f08-a5df-2d6b569fac34",
   "metadata": {},
   "outputs": [
    {
     "name": "stdout",
     "output_type": "stream",
     "text": [
      "        log_pSat_Pa            MW    NumOfAtoms        NumOfC        NumOfO  \\\n",
      "count  26637.000000  26637.000000  26637.000000  26637.000000  26637.000000   \n",
      "mean      -5.516747    264.638341     26.251567      6.862409      9.937042   \n",
      "std        3.120191     49.618151      5.229818      1.453679      2.485167   \n",
      "min      -18.822563     30.010565      4.000000      1.000000      0.000000   \n",
      "25%       -7.515147    233.017166     23.000000      6.000000      8.000000   \n",
      "50%       -5.450577    266.986260     26.000000      7.000000     10.000000   \n",
      "75%       -3.429192    299.012475     30.000000      7.000000     12.000000   \n",
      "max        8.390642    386.044503     41.000000     10.000000     17.000000   \n",
      "\n",
      "             NumOfN  NumHBondDonors     NumOfConf  NumOfConfUsed  \\\n",
      "count  26637.000000    26637.000000  26637.000000   26637.000000   \n",
      "mean       1.063558        2.201637    229.856778      25.700417   \n",
      "std        0.710745        1.021029    203.234312      14.689993   \n",
      "min        0.000000        0.000000      1.000000       1.000000   \n",
      "25%        1.000000        2.000000     72.000000      11.000000   \n",
      "50%        1.000000        2.000000    173.000000      30.000000   \n",
      "75%        2.000000        3.000000    332.000000      40.000000   \n",
      "max        2.000000        6.000000   1743.000000      40.000000   \n",
      "\n",
      "       C=C (non-aromatic)  ...         ester  ether (alicyclic)       nitrate  \\\n",
      "count        26637.000000  ...  26637.000000       26637.000000  26637.000000   \n",
      "mean             0.091001  ...      0.156587           0.205917      0.667680   \n",
      "std              0.288268  ...      0.440561           0.404377      0.674062   \n",
      "min              0.000000  ...      0.000000           0.000000      0.000000   \n",
      "25%              0.000000  ...      0.000000           0.000000      0.000000   \n",
      "50%              0.000000  ...      0.000000           0.000000      1.000000   \n",
      "75%              0.000000  ...      0.000000           0.000000      1.000000   \n",
      "max              2.000000  ...      2.000000           1.000000      2.000000   \n",
      "\n",
      "              nitro  aromatic hydroxyl  carbonylperoxynitrate      peroxide  \\\n",
      "count  26637.000000       26637.000000           26637.000000  26637.000000   \n",
      "mean       0.154034           0.001089               0.241844      0.281188   \n",
      "std        0.366561           0.046247               0.452091      0.449587   \n",
      "min        0.000000           0.000000               0.000000      0.000000   \n",
      "25%        0.000000           0.000000               0.000000      0.000000   \n",
      "50%        0.000000           0.000000               0.000000      0.000000   \n",
      "75%        0.000000           0.000000               0.000000      1.000000   \n",
      "max        2.000000           3.000000               2.000000      1.000000   \n",
      "\n",
      "       hydroperoxide  carbonylperoxyacid    nitroester  \n",
      "count   26637.000000        26637.000000  26637.000000  \n",
      "mean        0.769982            0.261065      0.013065  \n",
      "std         0.696776            0.469067      0.115194  \n",
      "min         0.000000            0.000000      0.000000  \n",
      "25%         0.000000            0.000000      0.000000  \n",
      "50%         1.000000            0.000000      0.000000  \n",
      "75%         1.000000            0.000000      0.000000  \n",
      "max         4.000000            3.000000      2.000000  \n",
      "\n",
      "[8 rows x 25 columns]\n",
      "<class 'pandas.core.frame.DataFrame'>\n",
      "RangeIndex: 26637 entries, 0 to 26636\n",
      "Data columns (total 26 columns):\n",
      " #   Column                        Non-Null Count  Dtype  \n",
      "---  ------                        --------------  -----  \n",
      " 0   log_pSat_Pa                   26637 non-null  float64\n",
      " 1   MW                            26637 non-null  float64\n",
      " 2   NumOfAtoms                    26637 non-null  int64  \n",
      " 3   NumOfC                        26637 non-null  int64  \n",
      " 4   NumOfO                        26637 non-null  int64  \n",
      " 5   NumOfN                        26637 non-null  int64  \n",
      " 6   NumHBondDonors                26637 non-null  int64  \n",
      " 7   NumOfConf                     26637 non-null  float64\n",
      " 8   NumOfConfUsed                 26637 non-null  float64\n",
      " 9   parentspecies                 26427 non-null  object \n",
      " 10  C=C (non-aromatic)            26637 non-null  int64  \n",
      " 11  C=C-C=O in non-aromatic ring  26637 non-null  int64  \n",
      " 12  hydroxyl (alkyl)              26637 non-null  int64  \n",
      " 13  aldehyde                      26637 non-null  int64  \n",
      " 14  ketone                        26637 non-null  int64  \n",
      " 15  carboxylic acid               26637 non-null  int64  \n",
      " 16  ester                         26637 non-null  int64  \n",
      " 17  ether (alicyclic)             26637 non-null  int64  \n",
      " 18  nitrate                       26637 non-null  int64  \n",
      " 19  nitro                         26637 non-null  int64  \n",
      " 20  aromatic hydroxyl             26637 non-null  int64  \n",
      " 21  carbonylperoxynitrate         26637 non-null  int64  \n",
      " 22  peroxide                      26637 non-null  int64  \n",
      " 23  hydroperoxide                 26637 non-null  int64  \n",
      " 24  carbonylperoxyacid            26637 non-null  int64  \n",
      " 25  nitroester                    26637 non-null  int64  \n",
      "dtypes: float64(4), int64(21), object(1)\n",
      "memory usage: 5.3+ MB\n",
      "None\n"
     ]
    },
    {
     "data": {
      "text/plain": [
       "log_pSat_Pa                     False\n",
       "MW                              False\n",
       "NumOfAtoms                      False\n",
       "NumOfC                          False\n",
       "NumOfO                          False\n",
       "NumOfN                          False\n",
       "NumHBondDonors                  False\n",
       "NumOfConf                       False\n",
       "NumOfConfUsed                   False\n",
       "parentspecies                    True\n",
       "C=C (non-aromatic)              False\n",
       "C=C-C=O in non-aromatic ring    False\n",
       "hydroxyl (alkyl)                False\n",
       "aldehyde                        False\n",
       "ketone                          False\n",
       "carboxylic acid                 False\n",
       "ester                           False\n",
       "ether (alicyclic)               False\n",
       "nitrate                         False\n",
       "nitro                           False\n",
       "aromatic hydroxyl               False\n",
       "carbonylperoxynitrate           False\n",
       "peroxide                        False\n",
       "hydroperoxide                   False\n",
       "carbonylperoxyacid              False\n",
       "nitroester                      False\n",
       "dtype: bool"
      ]
     },
     "execution_count": 9,
     "metadata": {},
     "output_type": "execute_result"
    }
   ],
   "source": [
    "# Load data\n",
    "train_data = pd.read_csv('train.csv')\n",
    "test_data = pd.read_csv('test.csv')\n",
    "\n",
    "# Drop \"ID\" since it is a random number for the test data\n",
    "train_data = train_data.drop(columns=[\"ID\"])\n",
    "test_data = test_data.drop(columns=[\"ID\"])\n",
    "\n",
    "# Data exploration\n",
    "print(train_data.describe())\n",
    "print(train_data.info())\n",
    "\n",
    "# Check missing values\n",
    "train_data.isna().any()"
   ]
  },
  {
   "cell_type": "markdown",
   "id": "1770fef1-a021-4183-b5b4-a6ec418ceaa4",
   "metadata": {},
   "source": [
    "We can see \"parentspecies\" column is categorical data with some missing values. So we need to transform these categorical variables into a numerical format.\n",
    "\n",
    "For some features with large values, considering the logarithmic scale instead of raw data to bring the quantities to more manageable range.\n",
    "\n",
    "Standardize numerical data."
   ]
  },
  {
   "cell_type": "code",
   "execution_count": null,
   "id": "8cad0a2e-8d85-46d2-88b1-d1a7b5c38317",
   "metadata": {},
   "outputs": [],
   "source": [
    "# To do: transform \"parentspecies\" categorical variables into a numerical format\n",
    "# To do: log transform\n",
    "# To do: Normalization/Standardization"
   ]
  },
  {
   "cell_type": "markdown",
   "id": "cd59b4fa-56aa-4df4-8cc4-2b320b75a55d",
   "metadata": {},
   "source": [
    "# Feature selection\n",
    "\n"
   ]
  },
  {
   "cell_type": "code",
   "execution_count": null,
   "id": "59afd341-a8f0-4bfb-bde7-f1e822b39a89",
   "metadata": {},
   "outputs": [],
   "source": [
    "# Check for correlations\n",
    "correlation_matrix = train_data.corr()\n",
    "sns.heatmap(correlation_matrix, annot=True)\n",
    "plt.show()\n"
   ]
  },
  {
   "cell_type": "markdown",
   "id": "ff4445be-2e85-49d1-9c4d-beec9d2f1db6",
   "metadata": {},
   "source": [
    "By correlation analysis, we may remove highly correlated features to reduce multicollinearity. Also, considering creating new features such as ratios or interactions between different chemical properties, which might help in improving the model's performance. \n",
    "\n",
    "Use models like Random Forest or XGBoost to identify important features. Alternatively, techniques like Recursive Feature Elimination (RFE) can be used to select features."
   ]
  },
  {
   "cell_type": "markdown",
   "id": "0b1071e0-7413-4478-83cb-8fce24765805",
   "metadata": {},
   "source": [
    "# Model Selection\n",
    "\n",
    "Test various regression models such as Linear Regression, Ridge/Lasso Regression, Decision Trees, Random Forest, and Support Vector Regression.\n",
    "\n",
    "Use K-fold cross-validation to evaluate the performance of each model.\n",
    "\n",
    "Adjust model parameters using techniques like Grid Search or Random Search to find the optimal settings for models."
   ]
  },
  {
   "cell_type": "markdown",
   "id": "b48d51cc-44eb-4cae-92db-a68919d19926",
   "metadata": {},
   "source": [
    "# R2 Score Estimation\n"
   ]
  }
 ],
 "metadata": {
  "kernelspec": {
   "display_name": "Python 3 (ipykernel)",
   "language": "python",
   "name": "python3"
  },
  "language_info": {
   "codemirror_mode": {
    "name": "ipython",
    "version": 3
   },
   "file_extension": ".py",
   "mimetype": "text/x-python",
   "name": "python",
   "nbconvert_exporter": "python",
   "pygments_lexer": "ipython3",
   "version": "3.11.5"
  }
 },
 "nbformat": 4,
 "nbformat_minor": 5
}
